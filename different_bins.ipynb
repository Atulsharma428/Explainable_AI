{
 "cells": [
  {
   "cell_type": "code",
   "execution_count": 15,
   "metadata": {},
   "outputs": [],
   "source": [
    "import os\n",
    "import cv2\n",
    "import numpy as np\n",
    "from skimage.feature import local_binary_pattern\n",
    "from sklearn.model_selection import train_test_split\n",
    "from sklearn.ensemble import AdaBoostClassifier\n",
    "from sklearn.metrics import accuracy_score, precision_score, recall_score, f1_score\n",
    "from sklearn.preprocessing import LabelEncoder"
   ]
  },
  {
   "cell_type": "code",
   "execution_count": 16,
   "metadata": {},
   "outputs": [],
   "source": [
    "# Function to load images and labels from a dataset folder\n",
    "def load_dataset(dataset_path):\n",
    "    images = []\n",
    "    labels = []\n",
    "    label_names = os.listdir(dataset_path)\n",
    "    for label in label_names:\n",
    "        label_path = os.path.join(dataset_path, label)\n",
    "        for image_name in os.listdir(label_path):\n",
    "            image_path = os.path.join(label_path, image_name)\n",
    "            image = cv2.imread(image_path)\n",
    "            images.append(image)\n",
    "            labels.append(label)\n",
    "    return images, labels\n",
    "\n",
    "# Load dataset\n",
    "dataset_path = 'fish_dt'  # Replace with your actual dataset path\n",
    "images, labels = load_dataset(dataset_path)"
   ]
  },
  {
   "cell_type": "code",
   "execution_count": 17,
   "metadata": {},
   "outputs": [],
   "source": [
    "# Convert images to grayscale\n",
    "gray_images = [cv2.cvtColor(image, cv2.COLOR_BGR2GRAY) for image in images]"
   ]
  },
  {
   "cell_type": "code",
   "execution_count": 18,
   "metadata": {},
   "outputs": [],
   "source": [
    "# Apply LBP\n",
    "def apply_lbp(image, num_points=24, radius=8):\n",
    "    lbp = local_binary_pattern(image, num_points, radius, method='uniform')\n",
    "    return lbp"
   ]
  },
  {
   "cell_type": "code",
   "execution_count": 19,
   "metadata": {},
   "outputs": [],
   "source": [
    "# Apply LDP\n",
    "def apply_ldp(image):\n",
    "    gx = cv2.Sobel(image, cv2.CV_32F, 1, 0, ksize=3)\n",
    "    gy = cv2.Sobel(image, cv2.CV_32F, 0, 1, ksize=3)\n",
    "    magnitude, angle = cv2.cartToPolar(gx, gy, angleInDegrees=True)\n",
    "    angle_bins = np.int32(8 * angle / 360)  # Quantize the angle to 8 bins\n",
    "    return angle_bins"
   ]
  },
  {
   "cell_type": "code",
   "execution_count": 20,
   "metadata": {},
   "outputs": [],
   "source": [
    "# Compute histogram\n",
    "def compute_histogram(image, bins=16):\n",
    "    hist, _ = np.histogram(image.ravel(), bins=bins, range=(0, bins))\n",
    "    hist = hist.astype(\"float\")\n",
    "    hist /= (hist.sum() + 1e-6)  # Normalize the histogram\n",
    "    return hist\n",
    "\n",
    "# Convert labels to numerical values\n",
    "label_encoder = LabelEncoder()\n",
    "numeric_labels = label_encoder.fit_transform(labels)"
   ]
  },
  {
   "cell_type": "code",
   "execution_count": 21,
   "metadata": {},
   "outputs": [],
   "source": [
    "# Function to train and evaluate classifiers\n",
    "def train_and_evaluate_model(X_train, X_test, y_train, y_test, classifier):\n",
    "    clf = classifier\n",
    "    clf.fit(X_train, y_train)\n",
    "    y_pred = clf.predict(X_test)\n",
    "    accuracy = accuracy_score(y_test, y_pred)\n",
    "    precision = precision_score(y_test, y_pred, average='weighted')\n",
    "    recall = recall_score(y_test, y_pred, average='weighted')\n",
    "    f1 = f1_score(y_test, y_pred, average='weighted')\n",
    "    return accuracy, precision, recall, f1"
   ]
  },
  {
   "cell_type": "code",
   "execution_count": 27,
   "metadata": {},
   "outputs": [
    {
     "name": "stderr",
     "output_type": "stream",
     "text": [
      "C:\\Users\\KIIT\\AppData\\Roaming\\Python\\Python312\\site-packages\\sklearn\\ensemble\\_weight_boosting.py:527: FutureWarning: The SAMME.R algorithm (the default) is deprecated and will be removed in 1.6. Use the SAMME algorithm to circumvent this warning.\n",
      "  warnings.warn(\n",
      "C:\\Users\\KIIT\\AppData\\Roaming\\Python\\Python312\\site-packages\\sklearn\\ensemble\\_weight_boosting.py:527: FutureWarning: The SAMME.R algorithm (the default) is deprecated and will be removed in 1.6. Use the SAMME algorithm to circumvent this warning.\n",
      "  warnings.warn(\n",
      "C:\\Users\\KIIT\\AppData\\Roaming\\Python\\Python312\\site-packages\\sklearn\\ensemble\\_weight_boosting.py:527: FutureWarning: The SAMME.R algorithm (the default) is deprecated and will be removed in 1.6. Use the SAMME algorithm to circumvent this warning.\n",
      "  warnings.warn(\n",
      "C:\\Users\\KIIT\\AppData\\Roaming\\Python\\Python312\\site-packages\\sklearn\\ensemble\\_weight_boosting.py:527: FutureWarning: The SAMME.R algorithm (the default) is deprecated and will be removed in 1.6. Use the SAMME algorithm to circumvent this warning.\n",
      "  warnings.warn(\n",
      "C:\\Users\\KIIT\\AppData\\Roaming\\Python\\Python312\\site-packages\\sklearn\\ensemble\\_weight_boosting.py:527: FutureWarning: The SAMME.R algorithm (the default) is deprecated and will be removed in 1.6. Use the SAMME algorithm to circumvent this warning.\n",
      "  warnings.warn(\n",
      "C:\\Users\\KIIT\\AppData\\Roaming\\Python\\Python312\\site-packages\\sklearn\\ensemble\\_weight_boosting.py:527: FutureWarning: The SAMME.R algorithm (the default) is deprecated and will be removed in 1.6. Use the SAMME algorithm to circumvent this warning.\n",
      "  warnings.warn(\n"
     ]
    }
   ],
   "source": [
    "# Evaluate RGB channel features with different histogram bin sizes\n",
    "def extract_color(image, bins):\n",
    "    # Convert the image from RGB to YCbCr color space\n",
    "    ycbcr_image = cv2.cvtColor(image, cv2.COLOR_RGB2YCrCb)\n",
    "    channels = cv2.split(ycbcr_image)\n",
    "    features = []\n",
    "    for channel in channels:\n",
    "        lbp_image = apply_lbp(channel)\n",
    "        lbp_hist_features = compute_histogram(lbp_image, bins)\n",
    "        ldp_image = apply_ldp(channel)\n",
    "        ldp_hist_features = compute_histogram(ldp_image, bins)\n",
    "        features.extend(np.hstack((lbp_hist_features, ldp_hist_features)))\n",
    "    return features\n",
    "bin_sizes = [8, 16, 32, 64, 128, 256]\n",
    "results = []\n",
    "\n",
    "for bins in bin_sizes:\n",
    "    rgb_features_list = [extract_color(image, bins) for image in images]\n",
    "    X_train, X_test, y_train, y_test = train_test_split(rgb_features_list, numeric_labels, test_size=0.2, random_state=42)\n",
    "    accuracy, precision, recall, f1 = train_and_evaluate_model(X_train, X_test, y_train, y_test, AdaBoostClassifier(n_estimators=100, random_state=42))\n",
    "    results.append((bins, accuracy, precision, recall, f1))\n"
   ]
  },
  {
   "cell_type": "code",
   "execution_count": 28,
   "metadata": {},
   "outputs": [
    {
     "name": "stdout",
     "output_type": "stream",
     "text": [
      "Bins      Accuracy  Precision Recall    F1 Score  \n",
      "8         0.8657    0.8619    0.8657    0.8637    \n",
      "16        0.8743    0.8673    0.8743    0.8704    \n",
      "32        0.8629    0.8655    0.8629    0.8641    \n",
      "64        0.8629    0.8655    0.8629    0.8641    \n",
      "128       0.8629    0.8655    0.8629    0.8641    \n",
      "256       0.8629    0.8655    0.8629    0.8641    \n"
     ]
    }
   ],
   "source": [
    "# Print results in a tabular format\n",
    "print(f\"{'Bins':<10}{'Accuracy':<10}{'Precision':<10}{'Recall':<10}{'F1 Score':<10}\")\n",
    "for bins, accuracy, precision, recall, f1 in results:\n",
    "    print(f\"{bins:<10}{accuracy:<10.4f}{precision:<10.4f}{recall:<10.4f}{f1:<10.4f}\")"
   ]
  },
  {
   "cell_type": "code",
   "execution_count": null,
   "metadata": {},
   "outputs": [],
   "source": []
  }
 ],
 "metadata": {
  "kernelspec": {
   "display_name": "Python 3",
   "language": "python",
   "name": "python3"
  },
  "language_info": {
   "codemirror_mode": {
    "name": "ipython",
    "version": 3
   },
   "file_extension": ".py",
   "mimetype": "text/x-python",
   "name": "python",
   "nbconvert_exporter": "python",
   "pygments_lexer": "ipython3",
   "version": "3.12.3"
  }
 },
 "nbformat": 4,
 "nbformat_minor": 2
}
